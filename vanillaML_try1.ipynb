{
 "cells": [
  {
   "cell_type": "code",
   "execution_count": 1,
   "metadata": {},
   "outputs": [],
   "source": [
    "import pickle\n",
    "import numpy as np\n",
    "import pandas as pd\n",
    "import matplotlib.pyplot as plt\n",
    "import torch"
   ]
  },
  {
   "cell_type": "code",
   "execution_count": 2,
   "metadata": {},
   "outputs": [],
   "source": [
    "pickle_in = open('input.pkl', 'rb')\n",
    "pickledata = pickle.load(pickle_in)"
   ]
  },
  {
   "cell_type": "code",
   "execution_count": 3,
   "metadata": {},
   "outputs": [],
   "source": [
    "pickle_in2 = open('label.pkl', 'rb')\n",
    "labeldata = pickle.load(pickle_in2)"
   ]
  },
  {
   "cell_type": "code",
   "execution_count": 4,
   "metadata": {},
   "outputs": [
    {
     "data": {
      "text/plain": [
       "torch.Size([49306, 6, 2, 125])"
      ]
     },
     "execution_count": 4,
     "metadata": {},
     "output_type": "execute_result"
    }
   ],
   "source": [
    "pickledata[:,0,0, 0] # all the values for x accel\n",
    "np.shape(labeldata)"
   ]
  },
  {
   "cell_type": "code",
   "execution_count": 5,
   "metadata": {},
   "outputs": [],
   "source": [
    "# separate out a section of the data, first 500 data points at 1/125\n",
    "sampledata = pickledata[:, 0:, 0, 0].numpy()\n",
    "samplelabels = labeldata[:, 0:, 1, 0].numpy()  # predict the right foot"
   ]
  },
  {
   "cell_type": "code",
   "execution_count": 7,
   "metadata": {},
   "outputs": [],
   "source": [
    "from sklearn.model_selection import train_test_split\n",
    "x_train, x_test, y_train, y_test = train_test_split(sampledata, samplelabels, test_size=0.2, random_state=42)"
   ]
  },
  {
   "cell_type": "code",
   "execution_count": 8,
   "metadata": {},
   "outputs": [
    {
     "data": {
      "text/plain": [
       "(39444, 6)"
      ]
     },
     "execution_count": 8,
     "metadata": {},
     "output_type": "execute_result"
    }
   ],
   "source": [
    "np.shape(x_train) # sanity check passed"
   ]
  },
  {
   "cell_type": "code",
   "execution_count": 10,
   "metadata": {},
   "outputs": [
    {
     "data": {
      "text/plain": [
       "3740.9988"
      ]
     },
     "execution_count": 10,
     "metadata": {},
     "output_type": "execute_result"
    }
   ],
   "source": [
    "from sklearn.linear_model import LinearRegression\n",
    "from sklearn.metrics import mean_squared_error\n",
    "\n",
    "reg = LinearRegression().fit(x_train, y_train)\n",
    "linregpred = reg.predict(x_test)\n",
    "mean_squared_error(y_test, linregpred)"
   ]
  },
  {
   "cell_type": "code",
   "execution_count": 25,
   "metadata": {},
   "outputs": [
    {
     "data": {
      "text/plain": [
       "4426.051538875178"
      ]
     },
     "execution_count": 25,
     "metadata": {},
     "output_type": "execute_result"
    }
   ],
   "source": [
    "from sklearn import linear_model \n",
    "ridgereg = linear_model.Ridge()\n",
    "ridgereg.fit(x_train, y_train)\n",
    "ridgeregpred = ridgereg.predict(x_test)\n",
    "mean_squared_error(y_test, ridgeregpred)"
   ]
  },
  {
   "cell_type": "code",
   "execution_count": 68,
   "metadata": {},
   "outputs": [
    {
     "data": {
      "text/plain": [
       "3741.4639"
      ]
     },
     "execution_count": 68,
     "metadata": {},
     "output_type": "execute_result"
    }
   ],
   "source": [
    "lassoreg = linear_model.Lasso(alpha=0.1)\n",
    "lassoreg.fit(x_train, y_train)\n",
    "lassoregpred = lassoreg.predict(x_test)\n",
    "mean_squared_error(y_test, lassoregpred)"
   ]
  },
  {
   "cell_type": "code",
   "execution_count": 69,
   "metadata": {},
   "outputs": [
    {
     "data": {
      "text/plain": [
       "4097.3794"
      ]
     },
     "execution_count": 69,
     "metadata": {},
     "output_type": "execute_result"
    }
   ],
   "source": [
    "from sklearn.preprocessing import PolynomialFeatures\n",
    "from sklearn.pipeline import Pipeline\n",
    "poly = PolynomialFeatures(degree=2)\n",
    "x_train_new = poly.fit_transform(x_train)\n",
    "x_test_new = poly.fit_transform(x_test)\n",
    "\n",
    "polymodel = Pipeline([('poly', PolynomialFeatures(degree=2)),('linear', LinearRegression())])\n",
    "polymodel = polymodel.fit(x_train_new, y_train)\n",
    "polymodelpred = polymodel.predict(x_test_new)\n",
    "mean_squared_error(y_test,polymodelpred)"
   ]
  },
  {
   "cell_type": "markdown",
   "metadata": {},
   "source": [
    "### 11.13.2019\n",
    "Though with a small subset of the data (0:500) we were getting rms values of ~0.1, training the net on the full (\"full\" i.e. still only 1/125th of the data) resulted in ~4000 values.  \n",
    "To Do:\n",
    "1. compare against a baseline: what is the rms value of just predicting from the average value of the test set?\n",
    "2. reshape the data and labels so that all 125ths of it are in single vector format\n",
    "3. retrain models and check if there was improvement\n",
    "4. plot error rates over time "
   ]
  },
  {
   "cell_type": "code",
   "execution_count": 9,
   "metadata": {},
   "outputs": [
    {
     "ename": "NameError",
     "evalue": "name 'mean_squared_error' is not defined",
     "output_type": "error",
     "traceback": [
      "\u001b[0;31m---------------------------------------------------------------------------\u001b[0m",
      "\u001b[0;31mNameError\u001b[0m                                 Traceback (most recent call last)",
      "\u001b[0;32m<ipython-input-9-ace3bbb7b4a8>\u001b[0m in \u001b[0;36m<module>\u001b[0;34m\u001b[0m\n\u001b[1;32m      2\u001b[0m \u001b[0;31m# avgpred should be shape (9862, 6)\u001b[0m\u001b[0;34m\u001b[0m\u001b[0;34m\u001b[0m\u001b[0;34m\u001b[0m\u001b[0m\n\u001b[1;32m      3\u001b[0m \u001b[0mavgpred\u001b[0m \u001b[0;34m=\u001b[0m \u001b[0mnp\u001b[0m\u001b[0;34m.\u001b[0m\u001b[0mones\u001b[0m\u001b[0;34m(\u001b[0m\u001b[0;34m(\u001b[0m\u001b[0;36m9862\u001b[0m\u001b[0;34m,\u001b[0m \u001b[0;36m6\u001b[0m\u001b[0;34m)\u001b[0m\u001b[0;34m)\u001b[0m\u001b[0;34m*\u001b[0m\u001b[0mnp\u001b[0m\u001b[0;34m.\u001b[0m\u001b[0mmean\u001b[0m\u001b[0;34m(\u001b[0m\u001b[0mx_test\u001b[0m\u001b[0;34m,\u001b[0m \u001b[0maxis\u001b[0m\u001b[0;34m=\u001b[0m\u001b[0;36m0\u001b[0m\u001b[0;34m)\u001b[0m\u001b[0;34m\u001b[0m\u001b[0;34m\u001b[0m\u001b[0m\n\u001b[0;32m----> 4\u001b[0;31m \u001b[0mmean_squared_error\u001b[0m\u001b[0;34m(\u001b[0m\u001b[0my_test\u001b[0m\u001b[0;34m,\u001b[0m \u001b[0mavgpred\u001b[0m\u001b[0;34m)\u001b[0m\u001b[0;34m\u001b[0m\u001b[0;34m\u001b[0m\u001b[0m\n\u001b[0m",
      "\u001b[0;31mNameError\u001b[0m: name 'mean_squared_error' is not defined"
     ]
    }
   ],
   "source": [
    "# prediction baseline: just average value\n",
    "# avgpred should be shape (9862, 6)\n",
    "avgpred = np.ones((9862, 6))*np.mean(x_test, axis=0)\n",
    "mean_squared_error(y_test, avgpred)"
   ]
  },
  {
   "cell_type": "markdown",
   "metadata": {},
   "source": [
    "### baseline\n",
    "Just taking the average value of each column and comparing it against the test set of labels results in a 3722 MSE value for left foor and 4088 for right, which is actually better than the polynomial fit performance\n",
    "\n",
    "### what does the data even really look like?"
   ]
  },
  {
   "cell_type": "code",
   "execution_count": 16,
   "metadata": {},
   "outputs": [
    {
     "data": {
      "image/png": "[encoded data removed]",
      "text/plain": [
       "<Figure size 432x288 with 1 Axes>"
      ]
     },
     "metadata": {
      "needs_background": "light"
     },
     "output_type": "display_data"
    }
   ],
   "source": [
    "# visualize data\n",
    "sampledata = pickledata[0:1000, 0, 0, 0].numpy()\n",
    "plt.plot(sampledata)\n",
    "plt.show()"
   ]
  },
  {
   "cell_type": "code",
   "execution_count": 17,
   "metadata": {},
   "outputs": [
    {
     "data": {
      "image/png": "[encoded data removed]",
      "text/plain": [
       "<Figure size 432x288 with 2 Axes>"
      ]
     },
     "metadata": {
      "needs_background": "light"
     },
     "output_type": "display_data"
    }
   ],
   "source": [
    "# heat map of correlation between data \n",
    "import seaborn as sns\n",
    "\n",
    "sampledata = pickledata[:, :, 0, 0].numpy()\n",
    "sampledatapd = pd.DataFrame(data = sampledata)\n",
    "corr = sampledatapd.corr()\n",
    "ax = sns.heatmap(\n",
    "    corr, \n",
    "    vmin=-1, vmax=1, center=0,\n",
    "    cmap=sns.diverging_palette(20, 220, n=200),\n",
    "    square=True\n",
    ")\n",
    "ax.set_xticklabels(\n",
    "    ax.get_xticklabels(),\n",
    "    rotation=45,\n",
    "    horizontalalignment='right'\n",
    ");"
   ]
  },
  {
   "cell_type": "code",
   "execution_count": 18,
   "metadata": {},
   "outputs": [
    {
     "data": {
      "image/png": "[encoded data removed]",
      "text/plain": [
       "<Figure size 432x288 with 6 Axes>"
      ]
     },
     "metadata": {
      "needs_background": "light"
     },
     "output_type": "display_data"
    }
   ],
   "source": [
    "# histograms\n",
    "sampledatapd.hist()\n",
    "plt.show()"
   ]
  },
  {
   "cell_type": "markdown",
   "metadata": {},
   "source": [
    "### insights\n",
    "x and y acceleration are negatively correlated; y and z gyroscope vals are positively correlated\n",
    "\n",
    "## reshaping data"
   ]
  },
  {
   "cell_type": "code",
   "execution_count": 19,
   "metadata": {},
   "outputs": [],
   "source": [
    "# we need to go from (49306, 6, 1, 125) to (295836, 6, 1)\n",
    "# reshape each feature one by one because I can't think straight\n",
    "data0 = pickledata[:, 0, 0, :].numpy()\n",
    "labels0 = labeldata[:, 0, 0, :].numpy() \n",
    "data0r = np.reshape(data0, 6163250)\n",
    "labels0r = np.reshape(labels0, 6163250)\n",
    "\n",
    "data_mat = np.zeros((6163250, 6))\n",
    "labels_mat = np.zeros((6163250, 6))\n",
    "# make it in a for loop\n",
    "for i in range(6):\n",
    "    data = pickledata[:, i, 0, :].numpy()\n",
    "    labels = labeldata[:, i, 0, :].numpy()\n",
    "    data_mat[:, i] = np.reshape(data, 6163250)\n",
    "    labels_mat[:, i] = np.reshape(labels, 6163250)"
   ]
  },
  {
   "cell_type": "markdown",
   "metadata": {},
   "source": [
    "### try training models on full data"
   ]
  },
  {
   "cell_type": "code",
   "execution_count": 20,
   "metadata": {},
   "outputs": [],
   "source": [
    "\n",
    "x_train, x_test, y_train, y_test = train_test_split(data_mat, labels_mat, test_size=0.2, random_state=42)"
   ]
  },
  {
   "cell_type": "code",
   "execution_count": 21,
   "metadata": {},
   "outputs": [
    {
     "data": {
      "text/plain": [
       "(1232650, 6)"
      ]
     },
     "execution_count": 21,
     "metadata": {},
     "output_type": "execute_result"
    }
   ],
   "source": [
    "np.shape(x_test)"
   ]
  },
  {
   "cell_type": "code",
   "execution_count": 22,
   "metadata": {},
   "outputs": [
    {
     "data": {
      "text/plain": [
       "4596.13502576924"
      ]
     },
     "execution_count": 22,
     "metadata": {},
     "output_type": "execute_result"
    }
   ],
   "source": [
    "# prediction baseline: just average value\n",
    "# avgpred should be shape (9862, 6)\n",
    "avgpred = np.ones((1232650, 6))*np.mean(x_test, axis=0)\n",
    "mean_squared_error(y_test, avgpred)"
   ]
  },
  {
   "cell_type": "code",
   "execution_count": 23,
   "metadata": {},
   "outputs": [
    {
     "data": {
      "text/plain": [
       "4426.051541637598"
      ]
     },
     "execution_count": 23,
     "metadata": {},
     "output_type": "execute_result"
    }
   ],
   "source": [
    "# LINREG\n",
    "\n",
    "reg = LinearRegression().fit(x_train, y_train)\n",
    "linregpred = reg.predict(x_test)\n",
    "mean_squared_error(y_test, linregpred)"
   ]
  },
  {
   "cell_type": "code",
   "execution_count": 26,
   "metadata": {},
   "outputs": [
    {
     "data": {
      "text/plain": [
       "4426.051538875178"
      ]
     },
     "execution_count": 26,
     "metadata": {},
     "output_type": "execute_result"
    }
   ],
   "source": [
    "# RIDGEREG \n",
    "ridgereg = linear_model.Ridge()\n",
    "ridgereg.fit(x_train, y_train)\n",
    "ridgeregpred = ridgereg.predict(x_test)\n",
    "mean_squared_error(y_test, ridgeregpred)"
   ]
  },
  {
   "cell_type": "code",
   "execution_count": 27,
   "metadata": {},
   "outputs": [
    {
     "data": {
      "text/plain": [
       "4426.252924660517"
      ]
     },
     "execution_count": 27,
     "metadata": {},
     "output_type": "execute_result"
    }
   ],
   "source": [
    "# LASSOREG\n",
    "\n",
    "lassoreg = linear_model.Lasso(alpha=0.1)\n",
    "lassoreg.fit(x_train, y_train)\n",
    "lassoregpred = lassoreg.predict(x_test)\n",
    "mean_squared_error(y_test, lassoregpred)"
   ]
  },
  {
   "cell_type": "code",
   "execution_count": 110,
   "metadata": {},
   "outputs": [],
   "source": [
    "# POLYNOMIAL\n",
    "# very slow for large dataset\n",
    "\n",
    "#poly = PolynomialFeatures(degree=2)\n",
    "#x_train_new = poly.fit_transform(x_train)\n",
    "#x_test_new = poly.fit_transform(x_test)\n",
    "#polymodel = Pipeline([('poly', PolynomialFeatures(degree=2)),('linear', LinearRegression())])\n",
    "#polymodel = polymodel.fit(x_train_new, y_train)\n",
    "#polymodelpred = polymodel.predict(x_test_new)\n",
    "#mean_squared_error(y_test,polymodelpred)"
   ]
  },
  {
   "cell_type": "code",
   "execution_count": 42,
   "metadata": {},
   "outputs": [
    {
     "data": {
      "text/plain": [
       "12318.718444516693"
      ]
     },
     "execution_count": 42,
     "metadata": {},
     "output_type": "execute_result"
    }
   ],
   "source": [
    "#SVR\n",
    "# very slow for large dataset, not optimal\n",
    "\n",
    "from sklearn.svm import SVR\n",
    "from sklearn.model_selection import learning_curve\n",
    "# fit reg model\n",
    "svr = SVR(gamma = 0.1, C=100, epsilon=0.1)\n",
    "svr.fit(x_train[0:5000,0:1], y_train[0:5000,0])\n",
    "y_svr = svr.predict(x_test[0:1000, 0:1])\n",
    "\n",
    "mean_squared_error(y_test[0:1000, 0:1], y_svr)"
   ]
  },
  {
   "cell_type": "code",
   "execution_count": null,
   "metadata": {},
   "outputs": [],
   "source": []
  },
  {
   "cell_type": "code",
   "execution_count": 112,
   "metadata": {},
   "outputs": [],
   "source": []
  },
  {
   "cell_type": "code",
   "execution_count": null,
   "metadata": {},
   "outputs": [],
   "source": []
  }
 ],
 "metadata": {
  "kernelspec": {
   "display_name": "Python 3",
   "language": "python",
   "name": "python3"
  },
  "language_info": {
   "codemirror_mode": {
    "name": "ipython",
    "version": 3
   },
   "file_extension": ".py",
   "mimetype": "text/x-python",
   "name": "python",
   "nbconvert_exporter": "python",
   "pygments_lexer": "ipython3",
   "version": "3.7.4"
  }
 },
 "nbformat": 4,
 "nbformat_minor": 2
}
